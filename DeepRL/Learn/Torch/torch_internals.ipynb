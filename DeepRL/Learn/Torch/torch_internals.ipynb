{
 "cells": [
  {
   "cell_type": "markdown",
   "id": "3dc62c2a",
   "metadata": {},
   "source": [
    "http://blog.ezyang.com/2019/05/pytorch-internals/\n",
    "\n",
    "깔끔하게 쓴 손글씨는 눈에 쏙 들어온다. \n",
    "\n",
    "좋은 글이다. 마치 device driver를 작성하는 수고를 다해서 OS가 동작하듯이 커널의 함수들을 타잎과 장치에 따라 개발한 많은 사람들이 있어 텐서 연산을 수행할 수 있다는 사실을 알았다. 공동체 정신 만세!"
   ]
  }
 ],
 "metadata": {
  "kernelspec": {
   "display_name": "Python 3 (ipykernel)",
   "language": "python",
   "name": "python3"
  },
  "language_info": {
   "codemirror_mode": {
    "name": "ipython",
    "version": 3
   },
   "file_extension": ".py",
   "mimetype": "text/x-python",
   "name": "python",
   "nbconvert_exporter": "python",
   "pygments_lexer": "ipython3",
   "version": "3.9.5"
  }
 },
 "nbformat": 4,
 "nbformat_minor": 5
}
