{
 "cells": [
  {
   "cell_type": "markdown",
   "id": "4d6bc165",
   "metadata": {},
   "source": [
    "https://github.com/transedward/pytorch-dqn\n",
    "\n",
    "위 코드를 읽고 직접 작성한다. 스크래치에서 시작해서 구현하는 것을 목표로 한다. \n",
    "먼저 코드를 읽고 모르는 부분들을 정리한 후 keras 코드에서 포팅한다. \n",
    "\n",
    "위 내용을 따라가기 전에 pytorch 사이트의 카트폴 예제를 먼저 살펴본다. \n"
   ]
  }
 ],
 "metadata": {
  "kernelspec": {
   "display_name": "Python 3 (ipykernel)",
   "language": "python",
   "name": "python3"
  },
  "language_info": {
   "codemirror_mode": {
    "name": "ipython",
    "version": 3
   },
   "file_extension": ".py",
   "mimetype": "text/x-python",
   "name": "python",
   "nbconvert_exporter": "python",
   "pygments_lexer": "ipython3",
   "version": "3.9.5"
  }
 },
 "nbformat": 4,
 "nbformat_minor": 5
}
