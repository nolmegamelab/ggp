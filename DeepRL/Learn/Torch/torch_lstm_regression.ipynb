{
 "cells": [
  {
   "cell_type": "code",
   "execution_count": 2,
   "metadata": {},
   "outputs": [],
   "source": [
    "import torch \n",
    "import torch.nn as nn \n",
    "import torch.nn.functional as F\n",
    "import torch.optim as optim \n",
    "import numpy as np"
   ]
  },
  {
   "cell_type": "code",
   "execution_count": 12,
   "metadata": {},
   "outputs": [],
   "source": [
    "class FunLSTM(nn.Module):\n",
    "    def __init__(self, input_size, hidden_size, num_layers, output_size):\n",
    "        super().__init__()\n",
    "        self.hidden_size = hidden_size \n",
    "        self.lstm = nn.LSTM(input_size, hidden_size, num_layers, batch_first=True)\n",
    "        self.fc = nn.Linear(hidden_size, output_size)\n",
    "\n",
    "    def forward(self, x, hs):\n",
    "        out, hs = self.lstm(x, hs)\n",
    "        out = out.view(-1, self.hidden_size)\n",
    "        out = self.fc(out)\n",
    "        return out, hs"
   ]
  },
  {
   "cell_type": "code",
   "execution_count": 13,
   "metadata": {},
   "outputs": [],
   "source": [
    "input_size = 1\n",
    "hidden_size = 8\n",
    "num_layers = 1\n",
    "output_size = 1\n",
    "\n",
    "model = FunLSTM(input_size, hidden_size, num_layers, output_size)\n",
    "criterion = nn.MSELoss()\n",
    "opt = optim.Adam(model.parameters(), lr = 0.001)\n",
    "\n",
    "x = np.linspace(-10, 10, 32*512)\n",
    "y = x ** 2\n",
    "\n",
    "for i in range(0, 100):\n",
    "    hs = None\n",
    "\n",
    "    indices = np.random.randint(0, 32*512, 32)\n",
    "    xb = x[indices]\n",
    "    yb = y[indices]\n",
    "    xt = torch.FloatTensor(xb)\n",
    "    yt = torch.FloatTensor(yb)\n",
    "    yt = yt.reshape(32, 1)\n",
    "\n",
    "    xt = xt.reshape(1, 32, 1)\n",
    "    out, hs = model(xt, hs)\n",
    "    hs = tuple([h.data for h in hs])\n",
    "\n",
    "    loss = criterion(out, yt)\n",
    "    loss.backward()\n",
    "    opt.step()\n"
   ]
  },
  {
   "cell_type": "code",
   "execution_count": 20,
   "metadata": {},
   "outputs": [
    {
     "name": "stdout",
     "output_type": "stream",
     "text": [
      "tensor([[[-1.0000]],\n",
      "\n",
      "        [[-0.9355]],\n",
      "\n",
      "        [[-0.8710]],\n",
      "\n",
      "        [[-0.8065]],\n",
      "\n",
      "        [[-0.7419]],\n",
      "\n",
      "        [[-0.6774]],\n",
      "\n",
      "        [[-0.6129]],\n",
      "\n",
      "        [[-0.5484]],\n",
      "\n",
      "        [[-0.4839]],\n",
      "\n",
      "        [[-0.4194]],\n",
      "\n",
      "        [[-0.3548]],\n",
      "\n",
      "        [[-0.2903]],\n",
      "\n",
      "        [[-0.2258]],\n",
      "\n",
      "        [[-0.1613]],\n",
      "\n",
      "        [[-0.0968]],\n",
      "\n",
      "        [[-0.0323]],\n",
      "\n",
      "        [[ 0.0323]],\n",
      "\n",
      "        [[ 0.0968]],\n",
      "\n",
      "        [[ 0.1613]],\n",
      "\n",
      "        [[ 0.2258]],\n",
      "\n",
      "        [[ 0.2903]],\n",
      "\n",
      "        [[ 0.3548]],\n",
      "\n",
      "        [[ 0.4194]],\n",
      "\n",
      "        [[ 0.4839]],\n",
      "\n",
      "        [[ 0.5484]],\n",
      "\n",
      "        [[ 0.6129]],\n",
      "\n",
      "        [[ 0.6774]],\n",
      "\n",
      "        [[ 0.7419]],\n",
      "\n",
      "        [[ 0.8065]],\n",
      "\n",
      "        [[ 0.8710]],\n",
      "\n",
      "        [[ 0.9355]],\n",
      "\n",
      "        [[ 1.0000]]])\n",
      "tensor([[0.2949],\n",
      "        [0.2949],\n",
      "        [0.2949],\n",
      "        [0.2950],\n",
      "        [0.2951],\n",
      "        [0.2953],\n",
      "        [0.2955],\n",
      "        [0.2958],\n",
      "        [0.2961],\n",
      "        [0.2965],\n",
      "        [0.2969],\n",
      "        [0.2974],\n",
      "        [0.2979],\n",
      "        [0.2985],\n",
      "        [0.2991],\n",
      "        [0.2998],\n",
      "        [0.3006],\n",
      "        [0.3014],\n",
      "        [0.3022],\n",
      "        [0.3031],\n",
      "        [0.3041],\n",
      "        [0.3051],\n",
      "        [0.3062],\n",
      "        [0.3073],\n",
      "        [0.3085],\n",
      "        [0.3097],\n",
      "        [0.3110],\n",
      "        [0.3123],\n",
      "        [0.3137],\n",
      "        [0.3151],\n",
      "        [0.3166],\n",
      "        [0.3181]])\n"
     ]
    }
   ],
   "source": [
    "x = np.linspace(-1, 1, 32)\n",
    "x_t = torch.FloatTensor(x)\n",
    "x_t = x_t.reshape(32, 1, 1)\n",
    "\n",
    "print(x_t)\n",
    "\n",
    "with torch.no_grad():\n",
    "    y_o, hs = model(x_t, None)\n",
    "\n",
    "\n",
    "print(y_o)"
   ]
  },
  {
   "cell_type": "code",
   "execution_count": 25,
   "metadata": {},
   "outputs": [
    {
     "data": {
      "image/png": "[encoded data removed]",
      "text/plain": [
       "<Figure size 432x288 with 1 Axes>"
      ]
     },
     "metadata": {
      "needs_background": "light"
     },
     "output_type": "display_data"
    }
   ],
   "source": [
    "import matplotlib.pyplot as plt \n",
    "\n",
    "y_o = y_o.reshape(32)\n",
    "\n",
    "fig = plt.figure() \n",
    "ax = fig.add_subplot(111)\n",
    "ax.plot(x, y_o)\n",
    "\n",
    "plt.show()\n",
    "\n",
    "# 뭘 배운 거지? "
   ]
  }
 ],
 "metadata": {
  "interpreter": {
   "hash": "ac59ebe37160ed0dfa835113d9b8498d9f09ceb179beaac4002f036b9467c963"
  },
  "kernelspec": {
   "display_name": "Python 3.9.5 64-bit",
   "language": "python",
   "name": "python3"
  },
  "language_info": {
   "codemirror_mode": {
    "name": "ipython",
    "version": 3
   },
   "file_extension": ".py",
   "mimetype": "text/x-python",
   "name": "python",
   "nbconvert_exporter": "python",
   "pygments_lexer": "ipython3",
   "version": "3.9.5"
  },
  "orig_nbformat": 4
 },
 "nbformat": 4,
 "nbformat_minor": 2
}
