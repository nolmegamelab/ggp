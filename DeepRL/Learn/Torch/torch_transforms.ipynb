{
 "cells": [
  {
   "cell_type": "markdown",
   "id": "73c4940c",
   "metadata": {},
   "source": [
    "tensor.scatter_, tensor.gather_ 와 같은 함수에 익숙해져야 한다. \n",
    "\n",
    "self[index[i][j][k]][j][k] = src[i][j][k]  # if dim == 0\n",
    "self[i][index[i][j][k]][k] = src[i][j][k]  # if dim == 1\n",
    "self[i][j][index[i][j][k]] = src[i][j][k]  # if dim == 2\n",
    "\n",
    "위의 내용을 개념화 하면 해당 dim의 인덱스에 해당되는 값을 src에서 값을 가져와 지정한다. index의 모양을 따라 순회하는 루프들에서 src에서 값을 루프의 i, j, k 값에서 얻어온다.  "
   ]
  },
  {
   "cell_type": "code",
   "execution_count": 1,
   "id": "10552fa8",
   "metadata": {},
   "outputs": [],
   "source": [
    "import torch "
   ]
  },
  {
   "cell_type": "code",
   "execution_count": 4,
   "id": "f3b06a56",
   "metadata": {},
   "outputs": [
    {
     "name": "stdout",
     "output_type": "stream",
     "text": [
      "tensor([[ 1,  2,  3,  4,  5],\n",
      "        [ 6,  7,  8,  9, 10]])\n",
      "s1: tensor([[1, 0, 0, 4, 0],\n",
      "        [0, 2, 0, 0, 0],\n",
      "        [0, 0, 3, 0, 0]])\n",
      "tensor([[1, 2, 3, 0, 0],\n",
      "        [6, 7, 0, 0, 8],\n",
      "        [0, 0, 0, 0, 0]])\n",
      "tensor([[2.0000, 2.0000, 2.4600, 2.0000],\n",
      "        [2.0000, 2.0000, 2.0000, 2.4600]])\n",
      "tensor([[2.0000, 2.0000, 3.2300, 2.0000],\n",
      "        [2.0000, 2.0000, 2.0000, 3.2300]])\n"
     ]
    }
   ],
   "source": [
    "src = torch.arange(1, 11).reshape((2, 5))\n",
    "print(src)\n",
    "\n",
    "index = torch.tensor([[0, 1, 2, 0]])\n",
    "s1 = torch.zeros(3, 5, dtype=src.dtype).scatter_(0, index, src)\n",
    "print(f\"s1: {s1}\") \n",
    "\n",
    "index = torch.tensor([[0, 1, 2], [0, 1, 4]])\n",
    "s2 = torch.zeros(3, 5, dtype=src.dtype).scatter_(1, index, src)\n",
    "print(s2)\n",
    "\n",
    "s3 = torch.full((2, 4), 2.).scatter_(1, torch.tensor([[2], [3]]),\n",
    "            1.23, reduce='multiply')\n",
    "print(s3)\n",
    "\n",
    "s4 = torch.full((2, 4), 2.).scatter_(1, torch.tensor([[2], [3]]),\n",
    "            1.23, reduce='add')\n",
    "print(s4)"
   ]
  },
  {
   "cell_type": "code",
   "execution_count": null,
   "id": "dcf68e5e",
   "metadata": {},
   "outputs": [],
   "source": []
  }
 ],
 "metadata": {
  "kernelspec": {
   "display_name": "Python 3 (ipykernel)",
   "language": "python",
   "name": "python3"
  },
  "language_info": {
   "codemirror_mode": {
    "name": "ipython",
    "version": 3
   },
   "file_extension": ".py",
   "mimetype": "text/x-python",
   "name": "python",
   "nbconvert_exporter": "python",
   "pygments_lexer": "ipython3",
   "version": "3.9.5"
  }
 },
 "nbformat": 4,
 "nbformat_minor": 5
}
