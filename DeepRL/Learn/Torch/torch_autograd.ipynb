{
 "cells": [
  {
   "cell_type": "markdown",
   "id": "d3b304e2",
   "metadata": {},
   "source": [
    "https://pytorch.org/tutorials/beginner/basics/autogradqs_tutorial.html\n",
    "\n"
   ]
  },
  {
   "cell_type": "code",
   "execution_count": 1,
   "id": "7c4907c5",
   "metadata": {},
   "outputs": [],
   "source": [
    "import torch "
   ]
  },
  {
   "cell_type": "code",
   "execution_count": 3,
   "id": "a03ff3b6",
   "metadata": {},
   "outputs": [],
   "source": [
    "x = torch.ones(5)\n",
    "y = torch.zeros(3)\n",
    "w = torch.randn(5, 3, requires_grad=True)\n",
    "b = torch.randn(3, requires_grad=True)\n",
    "z = torch.matmul(x, w) + b\n",
    "loss = torch.nn.functional.binary_cross_entropy_with_logits(z, y)"
   ]
  },
  {
   "cell_type": "code",
   "execution_count": 4,
   "id": "76188b7a",
   "metadata": {
    "scrolled": true
   },
   "outputs": [
    {
     "name": "stdout",
     "output_type": "stream",
     "text": [
      "Gradient function for z = <AddBackward0 object at 0x000001C5807C53D0>\n",
      "Gradient function for loss = <BinaryCrossEntropyWithLogitsBackward0 object at 0x000001C5807C56D0>\n"
     ]
    }
   ],
   "source": [
    "print(f\"Gradient function for z = {z.grad_fn}\")\n",
    "print(f\"Gradient function for loss = {loss.grad_fn}\")"
   ]
  },
  {
   "cell_type": "code",
   "execution_count": 5,
   "id": "9df2e29d",
   "metadata": {},
   "outputs": [
    {
     "name": "stdout",
     "output_type": "stream",
     "text": [
      "dL/dw : tensor([[0.3319, 0.3180, 0.1757],\n",
      "        [0.3319, 0.3180, 0.1757],\n",
      "        [0.3319, 0.3180, 0.1757],\n",
      "        [0.3319, 0.3180, 0.1757],\n",
      "        [0.3319, 0.3180, 0.1757]])\n",
      "dL/db : tensor([0.3319, 0.3180, 0.1757])\n"
     ]
    }
   ],
   "source": [
    "loss.backward()\n",
    "print(f\"dL/dw : {w.grad}\")\n",
    "print(f\"dL/db : {b.grad}\")"
   ]
  }
 ],
 "metadata": {
  "kernelspec": {
   "display_name": "Python 3 (ipykernel)",
   "language": "python",
   "name": "python3"
  },
  "language_info": {
   "codemirror_mode": {
    "name": "ipython",
    "version": 3
   },
   "file_extension": ".py",
   "mimetype": "text/x-python",
   "name": "python",
   "nbconvert_exporter": "python",
   "pygments_lexer": "ipython3",
   "version": "3.9.5"
  }
 },
 "nbformat": 4,
 "nbformat_minor": 5
}
