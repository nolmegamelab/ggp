{
 "cells": [
  {
   "cell_type": "code",
   "execution_count": 1,
   "id": "1d329aa4",
   "metadata": {},
   "outputs": [],
   "source": [
    "import torch \n",
    "import numpy as np"
   ]
  },
  {
   "cell_type": "code",
   "execution_count": 5,
   "id": "0fd06948",
   "metadata": {},
   "outputs": [
    {
     "data": {
      "text/plain": [
       "tensor([[1, 2],\n",
       "        [3, 4]])"
      ]
     },
     "execution_count": 5,
     "metadata": {},
     "output_type": "execute_result"
    }
   ],
   "source": [
    "data = [[1, 2], [3, 4]]\n",
    "x_data = torch.tensor(data)\n",
    "x_data"
   ]
  },
  {
   "cell_type": "code",
   "execution_count": 6,
   "id": "d3788627",
   "metadata": {},
   "outputs": [
    {
     "name": "stdout",
     "output_type": "stream",
     "text": [
      "Ones Tensor: \n",
      " tensor([[1, 1],\n",
      "        [1, 1]]) \n",
      "\n"
     ]
    }
   ],
   "source": [
    "x_ones = torch.ones_like(x_data)\n",
    "print(f\"Ones Tensor: \\n {x_ones} \\n\")"
   ]
  },
  {
   "cell_type": "code",
   "execution_count": 8,
   "id": "579a7e53",
   "metadata": {
    "scrolled": true
   },
   "outputs": [
    {
     "name": "stdout",
     "output_type": "stream",
     "text": [
      "Random Tensor: \n",
      " tensor([[0.4071, 0.8868, 0.3650],\n",
      "        [0.1471, 0.6919, 0.7687]]) \n",
      "\n"
     ]
    }
   ],
   "source": [
    "shape = (2, 3)\n",
    "rand_tensor = torch.rand(shape)\n",
    "print(f\"Random Tensor: \\n {rand_tensor} \\n\")"
   ]
  },
  {
   "cell_type": "code",
   "execution_count": 10,
   "id": "e34d127c",
   "metadata": {
    "scrolled": true
   },
   "outputs": [
    {
     "data": {
      "text/plain": [
       "tensor([[[0.1356, 0.5843, 0.6453, 0.1725, 0.3587],\n",
       "         [0.3757, 0.8494, 0.3312, 0.0866, 0.3785],\n",
       "         [0.0042, 0.7160, 0.7387, 0.0427, 0.1618],\n",
       "         [0.7134, 0.4832, 0.5132, 0.1932, 0.9411]],\n",
       "\n",
       "        [[0.2701, 0.6881, 0.8999, 0.1474, 0.8620],\n",
       "         [0.7011, 0.1017, 0.2437, 0.4049, 0.1273],\n",
       "         [0.4225, 0.2364, 0.7125, 0.6734, 0.7771],\n",
       "         [0.8934, 0.4540, 0.4885, 0.0316, 0.3874]],\n",
       "\n",
       "        [[0.6310, 0.9250, 0.9029, 0.3771, 0.6711],\n",
       "         [0.0085, 0.9542, 0.8748, 0.6595, 0.4901],\n",
       "         [0.9397, 0.4097, 0.6359, 0.6798, 0.3007],\n",
       "         [0.4223, 0.6257, 0.0424, 0.0411, 0.7058]]])"
      ]
     },
     "execution_count": 10,
     "metadata": {},
     "output_type": "execute_result"
    }
   ],
   "source": [
    "x_tensor = torch.rand(3, 4, 5)\n",
    "x_tensor"
   ]
  },
  {
   "cell_type": "code",
   "execution_count": 11,
   "id": "f00a6f37",
   "metadata": {},
   "outputs": [
    {
     "data": {
      "text/plain": [
       "tensor([[1., 0., 1., 1.],\n",
       "        [1., 0., 1., 1.],\n",
       "        [1., 0., 1., 1.],\n",
       "        [1., 0., 1., 1.]])"
      ]
     },
     "execution_count": 11,
     "metadata": {},
     "output_type": "execute_result"
    }
   ],
   "source": [
    "tensor = torch.ones(4, 4)\n",
    "tensor[:, 1] = 0\n",
    "tensor"
   ]
  },
  {
   "cell_type": "code",
   "execution_count": 18,
   "id": "d60124f8",
   "metadata": {},
   "outputs": [
    {
     "data": {
      "text/plain": [
       "tensor([[1., 0., 1., 1., 0.],\n",
       "        [1., 0., 1., 1., 0.],\n",
       "        [1., 0., 1., 1., 0.],\n",
       "        [1., 0., 1., 1., 0.]])"
      ]
     },
     "execution_count": 18,
     "metadata": {},
     "output_type": "execute_result"
    }
   ],
   "source": [
    "target = torch.zeros(4, 1)\n",
    "t_1 = torch.cat([tensor, target], dim=1)\n",
    "t_1"
   ]
  }
 ],
 "metadata": {
  "kernelspec": {
   "display_name": "Python 3 (ipykernel)",
   "language": "python",
   "name": "python3"
  },
  "language_info": {
   "codemirror_mode": {
    "name": "ipython",
    "version": 3
   },
   "file_extension": ".py",
   "mimetype": "text/x-python",
   "name": "python",
   "nbconvert_exporter": "python",
   "pygments_lexer": "ipython3",
   "version": "3.9.5"
  }
 },
 "nbformat": 4,
 "nbformat_minor": 5
}
